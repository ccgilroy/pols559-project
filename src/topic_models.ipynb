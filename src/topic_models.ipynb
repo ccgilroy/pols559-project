{
 "cells": [
  {
   "cell_type": "code",
   "execution_count": 1,
   "metadata": {
    "collapsed": true
   },
   "outputs": [],
   "source": [
    "import gensim\n",
    "import pandas as pd\n",
    "\n",
    "from gensim import corpora\n",
    "from gensim import models\n",
    "\n",
    "from nltk.corpus import stopwords\n",
    "from nltk.stem.porter import PorterStemmer"
   ]
  },
  {
   "cell_type": "code",
   "execution_count": 2,
   "metadata": {
    "collapsed": true
   },
   "outputs": [],
   "source": [
    "lgb_table = pd.read_csv(\"../data/lgb_table_ids.csv\")\n",
    "lgb_pages = pd.read_csv(\"../data/lgb_pages_v2.csv\")"
   ]
  },
  {
   "cell_type": "code",
   "execution_count": 7,
   "metadata": {},
   "outputs": [],
   "source": [
    "lgb_pages_nodups = lgb_pages.drop_duplicates()\n",
    "lgb_merged = pd.merge(lgb_table, lgb_pages_nodups, how='inner', on='pageid')\n",
    "lgb_merged.loc[lgb_merged.Notes == 'G.', 'Notes'] = 'G'\n",
    "lgb_merged.loc[lgb_merged.title == 'Kray twins', 'Notes'] = 'B'"
   ]
  },
  {
   "cell_type": "code",
   "execution_count": 8,
   "metadata": {
    "collapsed": true
   },
   "outputs": [],
   "source": [
    "lgb_merged_nodups = lgb_merged.loc[:, ['Notes', 'title', 'pageid', 'url', 'summary', 'content']].drop_duplicates()"
   ]
  },
  {
   "cell_type": "code",
   "execution_count": 9,
   "metadata": {
    "collapsed": true
   },
   "outputs": [],
   "source": [
    "lgb_merged_nodups.reset_index(drop=True, inplace=True)"
   ]
  },
  {
   "cell_type": "markdown",
   "metadata": {},
   "source": [
    "## Preprocessing"
   ]
  },
  {
   "cell_type": "code",
   "execution_count": 11,
   "metadata": {
    "collapsed": true
   },
   "outputs": [],
   "source": [
    "texts = lgb_merged_nodups['content']"
   ]
  },
  {
   "cell_type": "code",
   "execution_count": 12,
   "metadata": {
    "collapsed": true,
    "scrolled": true
   },
   "outputs": [],
   "source": [
    "stops = stopwords.words('english')\n",
    "pstemmer = PorterStemmer()"
   ]
  },
  {
   "cell_type": "code",
   "execution_count": 30,
   "metadata": {
    "collapsed": true
   },
   "outputs": [],
   "source": [
    "test = texts[0]"
   ]
  },
  {
   "cell_type": "code",
   "execution_count": 35,
   "metadata": {},
   "outputs": [
    {
     "data": {
      "text/plain": [
       "[<function gensim.parsing.preprocessing.<lambda>>,\n",
       " <function gensim.parsing.preprocessing.strip_tags>,\n",
       " <function gensim.parsing.preprocessing.strip_punctuation>,\n",
       " <function gensim.parsing.preprocessing.strip_multiple_whitespaces>,\n",
       " <function gensim.parsing.preprocessing.strip_numeric>,\n",
       " <function gensim.parsing.preprocessing.remove_stopwords>,\n",
       " <function gensim.parsing.preprocessing.strip_short>,\n",
       " <function gensim.parsing.preprocessing.stem_text>]"
      ]
     },
     "execution_count": 35,
     "metadata": {},
     "output_type": "execute_result"
    }
   ],
   "source": [
    "gensim.parsing.preprocessing.strip_punctuation(test)\n",
    "gensim.parsing.preprocessing.DEFAULT_FILTERS"
   ]
  },
  {
   "cell_type": "code",
   "execution_count": 13,
   "metadata": {
    "collapsed": true
   },
   "outputs": [],
   "source": [
    "texts_preprocessed = gensim.parsing.preprocessing.preprocess_documents(texts)"
   ]
  },
  {
   "cell_type": "code",
   "execution_count": 76,
   "metadata": {
    "collapsed": true
   },
   "outputs": [],
   "source": [
    "dictionary = corpora.Dictionary(texts_preprocessed)"
   ]
  },
  {
   "cell_type": "code",
   "execution_count": 62,
   "metadata": {
    "collapsed": true
   },
   "outputs": [],
   "source": [
    "# dictionary.filter_extremes(no_below=5, no_above=1)"
   ]
  },
  {
   "cell_type": "code",
   "execution_count": 77,
   "metadata": {
    "collapsed": true
   },
   "outputs": [],
   "source": [
    "corpus = [dictionary.doc2bow(text) for text in texts_preprocessed]"
   ]
  },
  {
   "cell_type": "code",
   "execution_count": 78,
   "metadata": {},
   "outputs": [
    {
     "data": {
      "text/plain": [
       "81055"
      ]
     },
     "execution_count": 78,
     "metadata": {},
     "output_type": "execute_result"
    }
   ],
   "source": [
    "len(dictionary.values())"
   ]
  },
  {
   "cell_type": "code",
   "execution_count": 79,
   "metadata": {
    "collapsed": true
   },
   "outputs": [],
   "source": [
    "tfidf = models.TfidfModel(corpus)"
   ]
  },
  {
   "cell_type": "code",
   "execution_count": 80,
   "metadata": {
    "collapsed": true
   },
   "outputs": [],
   "source": [
    "corpus_tfidf = tfidf[corpus]"
   ]
  },
  {
   "cell_type": "markdown",
   "metadata": {},
   "source": [
    "## Models"
   ]
  },
  {
   "cell_type": "code",
   "execution_count": 18,
   "metadata": {
    "collapsed": true
   },
   "outputs": [],
   "source": [
    "lsi = models.LsiModel(corpus_tfidf, id2word=dictionary, num_topics=2)"
   ]
  },
  {
   "cell_type": "code",
   "execution_count": 19,
   "metadata": {},
   "outputs": [
    {
     "data": {
      "text/plain": [
       "[(0,\n",
       "  '0.131*\"film\" + 0.111*\"album\" + 0.104*\"music\" + 0.104*\"award\" + 0.103*\"elect\" + 0.088*\"theatr\" + 0.082*\"isbn\" + 0.081*\"plai\" + 0.079*\"book\" + 0.076*\"perform\"'),\n",
       " (1,\n",
       "  '-0.381*\"elect\" + -0.205*\"democrat\" + -0.165*\"district\" + 0.155*\"album\" + -0.150*\"senat\" + -0.129*\"parliament\" + -0.129*\"vote\" + -0.123*\"repres\" + -0.122*\"legisl\" + -0.118*\"parti\"')]"
      ]
     },
     "execution_count": 19,
     "metadata": {},
     "output_type": "execute_result"
    }
   ],
   "source": [
    "lsi.print_topics(2)"
   ]
  },
  {
   "cell_type": "markdown",
   "metadata": {},
   "source": [
    "The first topic is about the arts, the second is about politics."
   ]
  },
  {
   "cell_type": "code",
   "execution_count": 20,
   "metadata": {
    "collapsed": true
   },
   "outputs": [],
   "source": [
    "lsi2 = models.LsiModel(corpus_tfidf, id2word=dictionary, num_topics=5)"
   ]
  },
  {
   "cell_type": "code",
   "execution_count": 21,
   "metadata": {},
   "outputs": [
    {
     "data": {
      "text/plain": [
       "[(0,\n",
       "  '0.131*\"film\" + 0.111*\"album\" + 0.104*\"music\" + 0.104*\"award\" + 0.103*\"elect\" + 0.088*\"theatr\" + 0.082*\"isbn\" + 0.080*\"plai\" + 0.079*\"book\" + 0.076*\"perform\"'),\n",
       " (1,\n",
       "  '-0.380*\"elect\" + -0.205*\"democrat\" + -0.165*\"district\" + 0.155*\"album\" + -0.151*\"senat\" + -0.130*\"parliament\" + -0.129*\"vote\" + -0.123*\"repres\" + -0.122*\"legisl\" + -0.118*\"parti\"'),\n",
       " (2,\n",
       "  '-0.371*\"album\" + 0.188*\"isbn\" + -0.171*\"song\" + 0.162*\"poetri\" + 0.159*\"novel\" + -0.154*\"record\" + -0.148*\"music\" + -0.144*\"singl\" + 0.143*\"book\" + -0.142*\"releas\"'),\n",
       " (3,\n",
       "  '0.404*\"olymp\" + 0.282*\"championship\" + 0.260*\"team\" + 0.211*\"skate\" + 0.207*\"medal\" + 0.183*\"hockei\" + 0.183*\"cup\" + 0.151*\"game\" + 0.147*\"player\" + 0.126*\"athlet\"'),\n",
       " (4,\n",
       "  '0.275*\"album\" + -0.240*\"film\" + -0.214*\"theatr\" + -0.180*\"broadwai\" + 0.143*\"poetri\" + -0.141*\"role\" + -0.136*\"actor\" + -0.130*\"episod\" + -0.122*\"star\" + 0.121*\"isbn\"')]"
      ]
     },
     "execution_count": 21,
     "metadata": {},
     "output_type": "execute_result"
    }
   ],
   "source": [
    "lsi2.print_topics(5)"
   ]
  },
  {
   "cell_type": "code",
   "execution_count": 86,
   "metadata": {},
   "outputs": [
    {
     "data": {
      "text/html": [
       "<div>\n",
       "<style scoped>\n",
       "    .dataframe tbody tr th:only-of-type {\n",
       "        vertical-align: middle;\n",
       "    }\n",
       "\n",
       "    .dataframe tbody tr th {\n",
       "        vertical-align: top;\n",
       "    }\n",
       "\n",
       "    .dataframe thead th {\n",
       "        text-align: right;\n",
       "    }\n",
       "</style>\n",
       "<table border=\"1\" class=\"dataframe\">\n",
       "  <thead>\n",
       "    <tr style=\"text-align: right;\">\n",
       "      <th></th>\n",
       "      <th>Name</th>\n",
       "      <th>Title</th>\n",
       "      <th>Lifetime</th>\n",
       "      <th>Nationality</th>\n",
       "      <th>Notable as</th>\n",
       "      <th>Notes</th>\n",
       "    </tr>\n",
       "  </thead>\n",
       "  <tbody>\n",
       "    <tr>\n",
       "      <th>719</th>\n",
       "      <td>Conrad Cummings</td>\n",
       "      <td>Conrad Cummings</td>\n",
       "      <td>b. 1948</td>\n",
       "      <td>American</td>\n",
       "      <td>Contemporary classical composer</td>\n",
       "      <td>G</td>\n",
       "    </tr>\n",
       "    <tr>\n",
       "      <th>2169</th>\n",
       "      <td>Phil Reed</td>\n",
       "      <td>Phil Reed</td>\n",
       "      <td>1949–2008</td>\n",
       "      <td>American</td>\n",
       "      <td>Politician</td>\n",
       "      <td>G</td>\n",
       "    </tr>\n",
       "    <tr>\n",
       "      <th>373</th>\n",
       "      <td>Joshua Boschee</td>\n",
       "      <td>Joshua Boschee</td>\n",
       "      <td>b. ?</td>\n",
       "      <td>American</td>\n",
       "      <td>Politician</td>\n",
       "      <td>G</td>\n",
       "    </tr>\n",
       "    <tr>\n",
       "      <th>967</th>\n",
       "      <td>Jackie Forster</td>\n",
       "      <td>Jackie Forster</td>\n",
       "      <td>1926–1998</td>\n",
       "      <td>English</td>\n",
       "      <td>Actor, activist</td>\n",
       "      <td>L</td>\n",
       "    </tr>\n",
       "    <tr>\n",
       "      <th>319</th>\n",
       "      <td>Tobias Billström</td>\n",
       "      <td>Tobias Billström</td>\n",
       "      <td>b. 1973</td>\n",
       "      <td>Swedish</td>\n",
       "      <td>Politician</td>\n",
       "      <td>B</td>\n",
       "    </tr>\n",
       "    <tr>\n",
       "      <th>2025</th>\n",
       "      <td>Douglas Pearce</td>\n",
       "      <td>Douglas P.</td>\n",
       "      <td>p. 1956</td>\n",
       "      <td>English</td>\n",
       "      <td>Musician</td>\n",
       "      <td>G</td>\n",
       "    </tr>\n",
       "    <tr>\n",
       "      <th>2252</th>\n",
       "      <td>Sal Rosselli</td>\n",
       "      <td>Sal Rosselli</td>\n",
       "      <td>b. 1949</td>\n",
       "      <td>American</td>\n",
       "      <td>Labor leader</td>\n",
       "      <td>G</td>\n",
       "    </tr>\n",
       "    <tr>\n",
       "      <th>1467</th>\n",
       "      <td>Jennifer Knapp</td>\n",
       "      <td>Jennifer Knapp</td>\n",
       "      <td>b. 1974</td>\n",
       "      <td>American</td>\n",
       "      <td>Musician</td>\n",
       "      <td>L</td>\n",
       "    </tr>\n",
       "    <tr>\n",
       "      <th>2461</th>\n",
       "      <td>Justin Simien</td>\n",
       "      <td>Justin Simien</td>\n",
       "      <td>b. 1983</td>\n",
       "      <td>American</td>\n",
       "      <td>Film director, screenwriter</td>\n",
       "      <td>G</td>\n",
       "    </tr>\n",
       "    <tr>\n",
       "      <th>1825</th>\n",
       "      <td>Carole Migden</td>\n",
       "      <td>Carole Migden</td>\n",
       "      <td>b. 1948</td>\n",
       "      <td>American</td>\n",
       "      <td>Politician</td>\n",
       "      <td>L</td>\n",
       "    </tr>\n",
       "  </tbody>\n",
       "</table>\n",
       "</div>"
      ],
      "text/plain": [
       "                  Name             Title   Lifetime Nationality  \\\n",
       "719    Conrad Cummings   Conrad Cummings    b. 1948    American   \n",
       "2169         Phil Reed         Phil Reed  1949–2008    American   \n",
       "373     Joshua Boschee    Joshua Boschee       b. ?    American   \n",
       "967     Jackie Forster    Jackie Forster  1926–1998     English   \n",
       "319   Tobias Billström  Tobias Billström    b. 1973     Swedish   \n",
       "2025    Douglas Pearce        Douglas P.    p. 1956     English   \n",
       "2252      Sal Rosselli      Sal Rosselli    b. 1949    American   \n",
       "1467    Jennifer Knapp    Jennifer Knapp    b. 1974    American   \n",
       "2461     Justin Simien     Justin Simien    b. 1983    American   \n",
       "1825     Carole Migden     Carole Migden    b. 1948    American   \n",
       "\n",
       "                           Notable as Notes  \n",
       "719   Contemporary classical composer     G  \n",
       "2169                       Politician     G  \n",
       "373                        Politician     G  \n",
       "967                   Actor, activist     L  \n",
       "319                        Politician     B  \n",
       "2025                         Musician     G  \n",
       "2252                     Labor leader     G  \n",
       "1467                         Musician     L  \n",
       "2461      Film director, screenwriter     G  \n",
       "1825                       Politician     L  "
      ]
     },
     "execution_count": 86,
     "metadata": {},
     "output_type": "execute_result"
    }
   ],
   "source": [
    "lgb_table.sample(10)"
   ]
  },
  {
   "cell_type": "markdown",
   "metadata": {},
   "source": [
    "check out results"
   ]
  },
  {
   "cell_type": "code",
   "execution_count": 85,
   "metadata": {
    "collapsed": true
   },
   "outputs": [],
   "source": [
    "lda = models.ldamodel.LdaModel(corpus=corpus_tfidf, id2word=dictionary, num_topics=20, passes=5)"
   ]
  },
  {
   "cell_type": "markdown",
   "metadata": {},
   "source": [
    "This is a bit slower to train..."
   ]
  },
  {
   "cell_type": "code",
   "execution_count": 58,
   "metadata": {},
   "outputs": [
    {
     "data": {
      "text/plain": [
       "[(0,\n",
       "  '0.001*\"norwegian\" + 0.001*\"tam\" + 0.001*\"zealand\" + 0.001*\"tatchel\" + 0.001*\"auckland\" + 0.000*\"whittington\" + 0.000*\"schafer\" + 0.000*\"handbal\" + 0.000*\"willett\" + 0.000*\"labour\"'),\n",
       " (1,\n",
       "  '0.001*\"oklahoma\" + 0.000*\"whishaw\" + 0.000*\"msp\" + 0.000*\"stasei\" + 0.000*\"wildeblood\" + 0.000*\"scagliotti\" + 0.000*\"stonei\" + 0.000*\"sexton\" + 0.000*\"sabin\" + 0.000*\"sahe\"'),\n",
       " (2,\n",
       "  '0.001*\"norri\" + 0.000*\"microsoft\" + 0.000*\"wuorinen\" + 0.000*\"woollei\" + 0.000*\"rigg\" + 0.000*\"tenni\" + 0.000*\"savanna\" + 0.000*\"tewksburi\" + 0.000*\"schumach\" + 0.000*\"winterson\"'),\n",
       " (3,\n",
       "  '0.001*\"webb\" + 0.001*\"rodriguez\" + 0.001*\"stipe\" + 0.001*\"warhol\" + 0.001*\"nba\" + 0.001*\"redgrav\" + 0.000*\"arvin\" + 0.000*\"preston\" + 0.000*\"fowler\" + 0.000*\"sappho\"'),\n",
       " (4,\n",
       "  '0.001*\"der\" + 0.001*\"wolff\" + 0.001*\"und\" + 0.001*\"tovei\" + 0.001*\"ruggiero\" + 0.001*\"sherlock\" + 0.000*\"belfast\" + 0.000*\"tobia\" + 0.000*\"baldwin\" + 0.000*\"sade\"'),\n",
       " (5,\n",
       "  '0.001*\"reed\" + 0.001*\"bartlett\" + 0.001*\"montana\" + 0.001*\"somervil\" + 0.001*\"romanovski\" + 0.001*\"sagan\" + 0.001*\"tennant\" + 0.000*\"russo\" + 0.000*\"rosen\" + 0.000*\"wigg\"'),\n",
       " (6,\n",
       "  '0.001*\"robertson\" + 0.001*\"bailei\" + 0.000*\"hoyl\" + 0.000*\"renault\" + 0.000*\"wiener\" + 0.000*\"thirlbi\" + 0.000*\"sycamor\" + 0.000*\"winfield\" + 0.000*\"ukip\" + 0.000*\"uganda\"'),\n",
       " (7,\n",
       "  '0.001*\"findlei\" + 0.001*\"saskatchewan\" + 0.000*\"partridg\" + 0.000*\"sprinkl\" + 0.000*\"wittgenstein\" + 0.000*\"sapphir\" + 0.000*\"tober\" + 0.000*\"whitton\" + 0.000*\"saxberg\" + 0.000*\"silveira\"'),\n",
       " (8,\n",
       "  '0.000*\"thiel\" + 0.000*\"lorenz\" + 0.000*\"seth\" + 0.000*\"strayhorn\" + 0.000*\"shafer\" + 0.000*\"symon\" + 0.000*\"salo\" + 0.000*\"fiji\" + 0.000*\"rondeau\" + 0.000*\"renato\"'),\n",
       " (9,\n",
       "  '0.001*\"parliament\" + 0.001*\"wild\" + 0.001*\"mayor\" + 0.001*\"davi\" + 0.001*\"team\" + 0.001*\"cup\" + 0.001*\"labour\" + 0.001*\"zealand\" + 0.001*\"busi\" + 0.001*\"olymp\"'),\n",
       " (10,\n",
       "  '0.001*\"tremblai\" + 0.001*\"stolz\" + 0.000*\"carter\" + 0.000*\"tonioli\" + 0.000*\"somov\" + 0.000*\"titon\" + 0.000*\"silva\" + 0.000*\"stadlob\" + 0.000*\"tucker\" + 0.000*\"squir\"'),\n",
       " (11,\n",
       "  '0.001*\"simmon\" + 0.001*\"rubin\" + 0.001*\"shellei\" + 0.000*\"bradi\" + 0.000*\"flanagan\" + 0.000*\"starr\" + 0.000*\"sinema\" + 0.000*\"steadman\" + 0.000*\"wentz\" + 0.000*\"spratl\"'),\n",
       " (12,\n",
       "  '0.001*\"watkin\" + 0.001*\"gold\" + 0.001*\"barnett\" + 0.001*\"olymp\" + 0.001*\"programm\" + 0.001*\"remix\" + 0.001*\"jason\" + 0.001*\"andi\" + 0.001*\"parliamentari\" + 0.001*\"itv\"'),\n",
       " (13,\n",
       "  '0.002*\"skate\" + 0.001*\"skater\" + 0.001*\"mcdermott\" + 0.000*\"dick\" + 0.000*\"syke\" + 0.000*\"novello\" + 0.000*\"wilcox\" + 0.000*\"sandoz\" + 0.000*\"dob\" + 0.000*\"pdf\"'),\n",
       " (14,\n",
       "  '0.001*\"roper\" + 0.000*\"ture\" + 0.000*\"spender\" + 0.000*\"rudin\" + 0.000*\"whitmor\" + 0.000*\"díaz\" + 0.000*\"stork\" + 0.000*\"bangor\" + 0.000*\"méxico\" + 0.000*\"schroeter\"'),\n",
       " (15,\n",
       "  '0.001*\"wong\" + 0.001*\"weber\" + 0.001*\"tomlin\" + 0.001*\"shannon\" + 0.000*\"tippett\" + 0.000*\"rickett\" + 0.000*\"nichol\" + 0.000*\"carr\" + 0.000*\"salzgeb\" + 0.000*\"britten\"'),\n",
       " (16,\n",
       "  '0.001*\"schneider\" + 0.001*\"strickland\" + 0.001*\"strachei\" + 0.000*\"salvator\" + 0.000*\"sia\" + 0.000*\"porn\" + 0.000*\"toksvig\" + 0.000*\"sagat\" + 0.000*\"rannel\" + 0.000*\"roo\"'),\n",
       " (17,\n",
       "  '0.001*\"sparro\" + 0.001*\"walpol\" + 0.000*\"mccoi\" + 0.000*\"ronson\" + 0.000*\"stenbock\" + 0.000*\"winckelmann\" + 0.000*\"seel\" + 0.000*\"spicer\" + 0.000*\"shimizu\" + 0.000*\"healei\"'),\n",
       " (18,\n",
       "  '0.001*\"shear\" + 0.001*\"kirbi\" + 0.000*\"rustin\" + 0.000*\"wolfenden\" + 0.000*\"richter\" + 0.000*\"skjellerup\" + 0.000*\"steffan\" + 0.000*\"twigg\" + 0.000*\"spearman\" + 0.000*\"knoller\"'),\n",
       " (19,\n",
       "  '0.002*\"film\" + 0.002*\"music\" + 0.002*\"album\" + 0.002*\"award\" + 0.002*\"elect\" + 0.001*\"isbn\" + 0.001*\"book\" + 0.001*\"gai\" + 0.001*\"plai\" + 0.001*\"theatr\"')]"
      ]
     },
     "execution_count": 58,
     "metadata": {},
     "output_type": "execute_result"
    }
   ],
   "source": [
    "lda.print_topics(20)"
   ]
  },
  {
   "cell_type": "markdown",
   "metadata": {},
   "source": [
    "lots of proper names... 20 topics is no good"
   ]
  },
  {
   "cell_type": "code",
   "execution_count": 69,
   "metadata": {
    "collapsed": true
   },
   "outputs": [],
   "source": [
    "lda = models.ldamodel.LdaModel(corpus=corpus_tfidf, id2word=dictionary, num_topics=5, passes=5)"
   ]
  },
  {
   "cell_type": "code",
   "execution_count": 70,
   "metadata": {},
   "outputs": [
    {
     "data": {
      "text/plain": [
       "[(0,\n",
       "  '0.003*\"skate\" + 0.002*\"olymp\" + 0.001*\"championship\" + 0.001*\"rodriguez\" + 0.001*\"hockei\" + 0.001*\"tremblai\" + 0.001*\"skater\" + 0.001*\"handbal\" + 0.001*\"team\" + 0.001*\"cup\"'),\n",
       " (1,\n",
       "  '0.002*\"film\" + 0.002*\"music\" + 0.002*\"album\" + 0.001*\"award\" + 0.001*\"isbn\" + 0.001*\"book\" + 0.001*\"novel\" + 0.001*\"song\" + 0.001*\"theatr\" + 0.001*\"perform\"'),\n",
       " (2,\n",
       "  '0.001*\"riksdag\" + 0.001*\"shimizu\" + 0.001*\"pell\" + 0.001*\"prentic\" + 0.000*\"takei\" + 0.000*\"nilsen\" + 0.000*\"schumach\" + 0.000*\"beauchamp\" + 0.000*\"msp\" + 0.000*\"roper\"'),\n",
       " (3,\n",
       "  '0.001*\"steadman\" + 0.001*\"schafer\" + 0.001*\"duse\" + 0.000*\"sheng\" + 0.000*\"rosenth\" + 0.000*\"ginal\" + 0.000*\"ferrandino\" + 0.000*\"moreno\" + 0.000*\"dominick\" + 0.000*\"ruggiero\"'),\n",
       " (4,\n",
       "  '0.004*\"elect\" + 0.002*\"democrat\" + 0.002*\"district\" + 0.002*\"parti\" + 0.001*\"serv\" + 0.001*\"parliament\" + 0.001*\"vote\" + 0.001*\"senat\" + 0.001*\"law\" + 0.001*\"olymp\"')]"
      ]
     },
     "execution_count": 70,
     "metadata": {},
     "output_type": "execute_result"
    }
   ],
   "source": [
    "lda.print_topics(5)"
   ]
  },
  {
   "cell_type": "code",
   "execution_count": 24,
   "metadata": {},
   "outputs": [
    {
     "data": {
      "text/plain": [
       "[(0,\n",
       "  '0.000*\"solmones\" + 0.000*\"sinha\" + 0.000*\"redner\" + 0.000*\"pillard\" + 0.000*\"tisei\" + 0.000*\"pureka\" + 0.000*\"sciortino\" + 0.000*\"rosendahl\" + 0.000*\"sherrin\" + 0.000*\"roffman\"'),\n",
       " (1,\n",
       "  '0.000*\"shernoff\" + 0.000*\"schafer\" + 0.000*\"sinema\" + 0.000*\"willett\" + 0.000*\"steadman\" + 0.000*\"wallowitch\" + 0.000*\"sippl\" + 0.000*\"scavullo\" + 0.000*\"stolz\" + 0.000*\"roellig\"'),\n",
       " (2,\n",
       "  '0.000*\"sandin\" + 0.000*\"tunnei\" + 0.000*\"sagat\" + 0.000*\"tiberiu\" + 0.000*\"salzgeb\" + 0.000*\"pintauro\" + 0.000*\"treaci\" + 0.000*\"rusch\" + 0.000*\"tinl\" + 0.000*\"rapino\"'),\n",
       " (3,\n",
       "  '0.000*\"sabado\" + 0.000*\"studd\" + 0.000*\"thai\" + 0.000*\"tober\" + 0.000*\"secter\" + 0.000*\"redl\" + 0.000*\"pichler\" + 0.000*\"peltzer\" + 0.000*\"rantel\" + 0.000*\"westerwel\"'),\n",
       " (4,\n",
       "  '0.001*\"film\" + 0.001*\"elect\" + 0.001*\"music\" + 0.001*\"album\" + 0.001*\"award\" + 0.001*\"isbn\" + 0.001*\"book\" + 0.001*\"gai\" + 0.001*\"plai\" + 0.001*\"novel\"')]"
      ]
     },
     "execution_count": 24,
     "metadata": {},
     "output_type": "execute_result"
    }
   ],
   "source": [
    "lda.show_topics()"
   ]
  },
  {
   "cell_type": "code",
   "execution_count": 81,
   "metadata": {
    "collapsed": true
   },
   "outputs": [],
   "source": [
    "lda_counts = models.ldamodel.LdaModel(corpus=corpus, id2word=dictionary, num_topics=5, passes=5)"
   ]
  },
  {
   "cell_type": "code",
   "execution_count": 82,
   "metadata": {},
   "outputs": [
    {
     "data": {
      "text/plain": [
       "[(0,\n",
       "  '0.007*\"work\" + 0.007*\"new\" + 0.006*\"gai\" + 0.006*\"book\" + 0.005*\"time\" + 0.005*\"year\" + 0.004*\"univers\" + 0.004*\"publish\" + 0.004*\"isbn\" + 0.003*\"life\"'),\n",
       " (1,\n",
       "  '0.008*\"elect\" + 0.006*\"state\" + 0.005*\"new\" + 0.005*\"gai\" + 0.005*\"year\" + 0.004*\"member\" + 0.004*\"school\" + 0.004*\"nation\" + 0.004*\"parti\" + 0.004*\"right\"'),\n",
       " (2,\n",
       "  '0.015*\"film\" + 0.010*\"award\" + 0.007*\"new\" + 0.007*\"plai\" + 0.006*\"appear\" + 0.006*\"star\" + 0.005*\"seri\" + 0.005*\"work\" + 0.005*\"televis\" + 0.005*\"role\"'),\n",
       " (3,\n",
       "  '0.009*\"work\" + 0.006*\"new\" + 0.005*\"year\" + 0.005*\"art\" + 0.005*\"york\" + 0.004*\"time\" + 0.004*\"life\" + 0.003*\"book\" + 0.003*\"publish\" + 0.003*\"isbn\"'),\n",
       " (4,\n",
       "  '0.011*\"music\" + 0.010*\"album\" + 0.009*\"record\" + 0.008*\"song\" + 0.007*\"releas\" + 0.006*\"perform\" + 0.005*\"new\" + 0.005*\"year\" + 0.004*\"band\" + 0.004*\"work\"')]"
      ]
     },
     "execution_count": 82,
     "metadata": {},
     "output_type": "execute_result"
    }
   ],
   "source": [
    "lda_counts.show_topics()"
   ]
  },
  {
   "cell_type": "code",
   "execution_count": 83,
   "metadata": {
    "collapsed": true
   },
   "outputs": [],
   "source": [
    "lda_counts2 = models.ldamodel.LdaModel(corpus=corpus, id2word=dictionary, num_topics=10, passes=5)"
   ]
  },
  {
   "cell_type": "code",
   "execution_count": 105,
   "metadata": {},
   "outputs": [],
   "source": [
    "t = lda_counts2.show_topics(num_words=10, formatted=False)"
   ]
  },
  {
   "cell_type": "code",
   "execution_count": 104,
   "metadata": {},
   "outputs": [
    {
     "name": "stdout",
     "output_type": "stream",
     "text": [
      "Help on method show_topics in module gensim.models.ldamodel:\n",
      "\n",
      "show_topics(num_topics=10, num_words=10, log=False, formatted=True) method of gensim.models.ldamodel.LdaModel instance\n",
      "    Args:\n",
      "        num_topics (int): show results for first `num_topics` topics.\n",
      "            Unlike LSA, there is no natural ordering between the topics in LDA.\n",
      "            The returned `num_topics <= self.num_topics` subset of all topics is\n",
      "            therefore arbitrary and may change between two LDA training runs.\n",
      "        num_words (int): include top `num_words` with highest probabilities in topic.\n",
      "        log (bool): If True, log output in addition to returning it.\n",
      "        formatted (bool): If True, format topics as strings, otherwise return them as\n",
      "            `(word, probability)` 2-tuples.\n",
      "    Returns:\n",
      "        list: `num_words` most significant words for `num_topics` number of topics\n",
      "        (10 words for top 10 topics, by default).\n",
      "\n"
     ]
    }
   ],
   "source": [
    "help(lda_counts2.show_topics)"
   ]
  },
  {
   "cell_type": "code",
   "execution_count": 90,
   "metadata": {
    "collapsed": true
   },
   "outputs": [],
   "source": [
    "lda_counts = models.ldamodel.LdaModel(corpus=corpus, id2word=dictionary, num_topics=20, passes=5)"
   ]
  },
  {
   "cell_type": "code",
   "execution_count": 93,
   "metadata": {},
   "outputs": [
    {
     "data": {
      "text/plain": [
       "[(0,\n",
       "  '0.007*\"wild\" + 0.006*\"work\" + 0.005*\"french\" + 0.005*\"pari\" + 0.005*\"year\" + 0.004*\"life\" + 0.004*\"time\" + 0.003*\"publish\" + 0.003*\"later\" + 0.003*\"franc\"'),\n",
       " (1,\n",
       "  '0.006*\"work\" + 0.004*\"new\" + 0.004*\"bbc\" + 0.004*\"life\" + 0.004*\"present\" + 0.004*\"year\" + 0.004*\"time\" + 0.003*\"war\" + 0.003*\"radio\" + 0.003*\"later\"'),\n",
       " (2,\n",
       "  '0.021*\"music\" + 0.011*\"tchaikovski\" + 0.009*\"work\" + 0.008*\"compos\" + 0.007*\"new\" + 0.005*\"bernstein\" + 0.005*\"perform\" + 0.005*\"symphoni\" + 0.004*\"russian\" + 0.004*\"time\"'),\n",
       " (3,\n",
       "  '0.014*\"elect\" + 0.009*\"parti\" + 0.008*\"gai\" + 0.008*\"right\" + 0.007*\"member\" + 0.006*\"state\" + 0.006*\"polit\" + 0.006*\"govern\" + 0.006*\"new\" + 0.005*\"campaign\"'),\n",
       " (4,\n",
       "  '0.010*\"ginsberg\" + 0.010*\"rio\" + 0.008*\"seel\" + 0.008*\"sprinkl\" + 0.006*\"brazilian\" + 0.006*\"paulo\" + 0.005*\"swedish\" + 0.005*\"barreto\" + 0.005*\"davi\" + 0.004*\"janeiro\"'),\n",
       " (5,\n",
       "  '0.011*\"gai\" + 0.010*\"film\" + 0.007*\"televis\" + 0.006*\"award\" + 0.006*\"host\" + 0.005*\"new\" + 0.005*\"produc\" + 0.005*\"seri\" + 0.005*\"appear\" + 0.004*\"time\"'),\n",
       " (6,\n",
       "  '0.008*\"state\" + 0.008*\"school\" + 0.007*\"new\" + 0.007*\"weingarten\" + 0.007*\"citi\" + 0.006*\"york\" + 0.006*\"year\" + 0.005*\"teacher\" + 0.004*\"union\" + 0.004*\"unit\"'),\n",
       " (7,\n",
       "  '0.012*\"team\" + 0.010*\"world\" + 0.009*\"year\" + 0.008*\"olymp\" + 0.007*\"championship\" + 0.007*\"game\" + 0.007*\"season\" + 0.007*\"plai\" + 0.007*\"player\" + 0.007*\"final\"'),\n",
       " (8,\n",
       "  '0.017*\"sappho\" + 0.010*\"poetri\" + 0.009*\"poem\" + 0.008*\"proust\" + 0.007*\"work\" + 0.006*\"publish\" + 0.005*\"translat\" + 0.005*\"book\" + 0.005*\"centuri\" + 0.005*\"isbn\"'),\n",
       " (9,\n",
       "  '0.012*\"gai\" + 0.011*\"randi\" + 0.009*\"thiel\" + 0.007*\"milk\" + 0.006*\"savag\" + 0.005*\"san\" + 0.005*\"francisco\" + 0.005*\"new\" + 0.005*\"patterson\" + 0.005*\"aid\"'),\n",
       " (10,\n",
       "  '0.005*\"life\" + 0.005*\"film\" + 0.005*\"time\" + 0.005*\"year\" + 0.004*\"book\" + 0.004*\"william\" + 0.004*\"work\" + 0.004*\"london\" + 0.004*\"novel\" + 0.004*\"smith\"'),\n",
       " (11,\n",
       "  '0.018*\"film\" + 0.014*\"plai\" + 0.011*\"award\" + 0.010*\"role\" + 0.010*\"theatr\" + 0.010*\"star\" + 0.008*\"appear\" + 0.008*\"perform\" + 0.007*\"music\" + 0.007*\"seri\"'),\n",
       " (12,\n",
       "  '0.012*\"new\" + 0.012*\"book\" + 0.008*\"work\" + 0.008*\"award\" + 0.007*\"gai\" + 0.007*\"univers\" + 0.007*\"york\" + 0.006*\"american\" + 0.006*\"publish\" + 0.005*\"isbn\"'),\n",
       " (13,\n",
       "  '0.007*\"dahmer\" + 0.007*\"rimbaud\" + 0.006*\"work\" + 0.006*\"poem\" + 0.005*\"publish\" + 0.005*\"sagat\" + 0.004*\"sill\" + 0.004*\"stori\" + 0.004*\"year\" + 0.003*\"hadrian\"'),\n",
       " (14,\n",
       "  '0.022*\"music\" + 0.013*\"work\" + 0.013*\"opera\" + 0.013*\"compos\" + 0.011*\"piano\" + 0.010*\"orchestra\" + 0.009*\"tippett\" + 0.008*\"perform\" + 0.006*\"symphoni\" + 0.006*\"britten\"'),\n",
       " (15,\n",
       "  '0.016*\"art\" + 0.013*\"film\" + 0.013*\"work\" + 0.008*\"new\" + 0.007*\"york\" + 0.006*\"warhol\" + 0.006*\"museum\" + 0.006*\"artist\" + 0.006*\"galleri\" + 0.006*\"photograph\"'),\n",
       " (16,\n",
       "  '0.007*\"state\" + 0.006*\"work\" + 0.006*\"new\" + 0.005*\"hous\" + 0.004*\"univers\" + 0.004*\"elect\" + 0.004*\"year\" + 0.004*\"time\" + 0.004*\"school\" + 0.004*\"polit\"'),\n",
       " (17,\n",
       "  '0.020*\"film\" + 0.008*\"ture\" + 0.008*\"work\" + 0.006*\"produc\" + 0.005*\"porter\" + 0.005*\"life\" + 0.004*\"year\" + 0.004*\"time\" + 0.004*\"includ\" + 0.004*\"direct\"'),\n",
       " (18,\n",
       "  '0.018*\"album\" + 0.013*\"music\" + 0.013*\"record\" + 0.013*\"song\" + 0.013*\"releas\" + 0.008*\"perform\" + 0.007*\"band\" + 0.006*\"singl\" + 0.006*\"new\" + 0.005*\"year\"'),\n",
       " (19,\n",
       "  '0.013*\"murder\" + 0.007*\"year\" + 0.007*\"tiberiu\" + 0.006*\"victim\" + 0.006*\"wambach\" + 0.006*\"kill\" + 0.006*\"death\" + 0.006*\"polic\" + 0.005*\"trial\" + 0.005*\"later\"')]"
      ]
     },
     "execution_count": 93,
     "metadata": {},
     "output_type": "execute_result"
    }
   ],
   "source": [
    "lda_counts.show_topics(num_topics=20)"
   ]
  },
  {
   "cell_type": "code",
   "execution_count": 88,
   "metadata": {},
   "outputs": [
    {
     "data": {
      "text/plain": [
       "[(0,\n",
       "  '0.008*\"work\" + 0.005*\"time\" + 0.004*\"publish\" + 0.004*\"year\" + 0.004*\"book\" + 0.004*\"life\" + 0.004*\"write\" + 0.003*\"new\" + 0.003*\"novel\" + 0.003*\"later\"'),\n",
       " (1,\n",
       "  '0.015*\"film\" + 0.007*\"new\" + 0.006*\"year\" + 0.005*\"plai\" + 0.005*\"work\" + 0.005*\"star\" + 0.004*\"award\" + 0.004*\"york\" + 0.004*\"life\" + 0.004*\"appear\"'),\n",
       " (2,\n",
       "  '0.009*\"gai\" + 0.007*\"elect\" + 0.007*\"new\" + 0.006*\"state\" + 0.005*\"univers\" + 0.005*\"right\" + 0.005*\"member\" + 0.004*\"school\" + 0.004*\"work\" + 0.004*\"year\"'),\n",
       " (3,\n",
       "  '0.015*\"music\" + 0.008*\"album\" + 0.007*\"perform\" + 0.007*\"record\" + 0.007*\"new\" + 0.006*\"song\" + 0.006*\"award\" + 0.006*\"work\" + 0.006*\"releas\" + 0.005*\"plai\"'),\n",
       " (4,\n",
       "  '0.010*\"new\" + 0.008*\"work\" + 0.007*\"art\" + 0.006*\"film\" + 0.006*\"york\" + 0.004*\"life\" + 0.004*\"book\" + 0.004*\"year\" + 0.003*\"includ\" + 0.003*\"american\"'),\n",
       " (5,\n",
       "  '0.007*\"award\" + 0.006*\"book\" + 0.005*\"plai\" + 0.005*\"year\" + 0.005*\"team\" + 0.004*\"appear\" + 0.004*\"world\" + 0.004*\"time\" + 0.004*\"new\" + 0.004*\"seri\"')]"
      ]
     },
     "execution_count": 88,
     "metadata": {},
     "output_type": "execute_result"
    }
   ],
   "source": [
    "lda_counts.show_topics()"
   ]
  },
  {
   "cell_type": "code",
   "execution_count": 86,
   "metadata": {},
   "outputs": [
    {
     "data": {
      "text/plain": [
       "[(0,\n",
       "  '0.009*\"film\" + 0.009*\"new\" + 0.008*\"work\" + 0.006*\"book\" + 0.005*\"york\" + 0.005*\"award\" + 0.005*\"art\" + 0.004*\"life\" + 0.004*\"publish\" + 0.004*\"time\"'),\n",
       " (1,\n",
       "  '0.012*\"music\" + 0.007*\"album\" + 0.007*\"record\" + 0.007*\"perform\" + 0.006*\"new\" + 0.006*\"song\" + 0.005*\"year\" + 0.005*\"releas\" + 0.005*\"work\" + 0.005*\"plai\"'),\n",
       " (2,\n",
       "  '0.007*\"elect\" + 0.006*\"gai\" + 0.005*\"state\" + 0.004*\"new\" + 0.004*\"year\" + 0.004*\"work\" + 0.004*\"member\" + 0.004*\"univers\" + 0.004*\"right\" + 0.003*\"school\"'),\n",
       " (3,\n",
       "  '0.005*\"year\" + 0.005*\"appear\" + 0.005*\"plai\" + 0.004*\"role\" + 0.004*\"seri\" + 0.004*\"time\" + 0.003*\"life\" + 0.003*\"televis\" + 0.003*\"film\" + 0.003*\"later\"')]"
      ]
     },
     "execution_count": 86,
     "metadata": {},
     "output_type": "execute_result"
    }
   ],
   "source": [
    "lda_counts.show_topics()"
   ]
  },
  {
   "cell_type": "code",
   "execution_count": 87,
   "metadata": {
    "collapsed": true
   },
   "outputs": [],
   "source": [
    "lda = models.ldamodel.LdaModel(corpus=corpus_tfidf, id2word=dictionary, num_topics=2, passes=5)"
   ]
  },
  {
   "cell_type": "code",
   "execution_count": 68,
   "metadata": {},
   "outputs": [
    {
     "data": {
      "text/plain": [
       "[(0,\n",
       "  '0.001*\"film\" + 0.001*\"elect\" + 0.000*\"music\" + 0.000*\"album\" + 0.000*\"award\" + 0.000*\"isbn\" + 0.000*\"book\" + 0.000*\"gai\" + 0.000*\"plai\" + 0.000*\"theatr\" + 0.000*\"novel\" + 0.000*\"york\" + 0.000*\"smith\" + 0.000*\"perform\" + 0.000*\"record\" + 0.000*\"song\" + 0.000*\"lesbian\" + 0.000*\"televis\" + 0.000*\"london\" + 0.000*\"art\"'),\n",
       " (1,\n",
       "  '0.000*\"saisio\" + 0.000*\"sillanpää\" + 0.000*\"lepenski\" + 0.000*\"vir\" + 0.000*\"pirkko\" + 0.000*\"honkasalo\" + 0.000*\"srejović\" + 0.000*\"lpga\" + 0.000*\"markström\" + 0.000*\"pirjo\" + 0.000*\"lavesson\" + 0.000*\"hashiguchi\" + 0.000*\"seger\" + 0.000*\"riksdag\" + 0.000*\"holma\" + 0.000*\"olof\" + 0.000*\"cermanović–kuzmanović\" + 0.000*\"aleksandrina\" + 0.000*\"beograd\" + 0.000*\"skz\"')]"
      ]
     },
     "execution_count": 68,
     "metadata": {},
     "output_type": "execute_result"
    }
   ],
   "source": [
    "lda.show_topics(num_words=20)"
   ]
  },
  {
   "cell_type": "code",
   "execution_count": null,
   "metadata": {
    "collapsed": true
   },
   "outputs": [],
   "source": []
  }
 ],
 "metadata": {
  "anaconda-cloud": {},
  "kernelspec": {
   "display_name": "Python [conda root]",
   "language": "python",
   "name": "conda-root-py"
  },
  "language_info": {
   "codemirror_mode": {
    "name": "ipython",
    "version": 3
   },
   "file_extension": ".py",
   "mimetype": "text/x-python",
   "name": "python",
   "nbconvert_exporter": "python",
   "pygments_lexer": "ipython3",
   "version": "3.6.3"
  }
 },
 "nbformat": 4,
 "nbformat_minor": 2
}
